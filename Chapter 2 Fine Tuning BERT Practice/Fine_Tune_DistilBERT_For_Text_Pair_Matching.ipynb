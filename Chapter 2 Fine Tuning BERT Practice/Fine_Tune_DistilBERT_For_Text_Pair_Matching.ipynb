{
  "cells": [
    {
      "cell_type": "markdown",
      "source": [
        "Fine Tune DistilBERT For  Text Pair Matching\n",
        "Author: Nelson LIN (nelsonlin0321@outlook.com)"
      ],
      "metadata": {
        "id": "MoZ-3s0mN4JG"
      }
    },
    {
      "cell_type": "code",
      "source": [
        "# import libaries\n",
        "import torch\n",
        "from torch import cuda\n",
        "from torch.utils.data import Dataset,DataLoader"
      ],
      "metadata": {
        "id": "drMVKL8eN5oS"
      },
      "execution_count": 1,
      "outputs": []
    },
    {
      "cell_type": "code",
      "source": [
        "print(torch.__version__)"
      ],
      "metadata": {
        "colab": {
          "base_uri": "https://localhost:8080/"
        },
        "id": "Ve9awrmKby41",
        "outputId": "3238e34b-6d87-4221-ee80-b6c15aae70d5"
      },
      "execution_count": 2,
      "outputs": [
        {
          "output_type": "stream",
          "name": "stdout",
          "text": [
            "1.10.0+cu111\n"
          ]
        }
      ]
    },
    {
      "cell_type": "code",
      "source": [
        "import os\n",
        "import json\n",
        "import random\n",
        "import pandas as pd\n",
        "import numpy as np\n",
        "from sklearn.utils import shuffle\n",
        "from sklearn import metrics\n",
        "from collections import Counter"
      ],
      "metadata": {
        "id": "fTq-NCOvOFFD"
      },
      "execution_count": 3,
      "outputs": []
    },
    {
      "cell_type": "code",
      "source": [
        "# \n"
      ],
      "metadata": {
        "id": "Eyjlx0JdOX2n"
      },
      "execution_count": 4,
      "outputs": []
    },
    {
      "cell_type": "code",
      "source": [
        "from transformers import AutoTokenizer,DistilBertForSequenceClassification,default_data_collator,TrainingArguments,Trainer,EarlyStoppingCallback"
      ],
      "metadata": {
        "id": "qiBbyLVoON3Y"
      },
      "execution_count": 5,
      "outputs": []
    },
    {
      "cell_type": "code",
      "source": [
        "device = \"cuda\" if cuda.is_available() else \"cpu\""
      ],
      "metadata": {
        "id": "G4uhX374OVlZ"
      },
      "execution_count": 6,
      "outputs": []
    },
    {
      "cell_type": "code",
      "source": [
        "device"
      ],
      "metadata": {
        "colab": {
          "base_uri": "https://localhost:8080/",
          "height": 35
        },
        "id": "kfXjwuzfQToR",
        "outputId": "9003a12e-ebfd-47db-b612-9a777456d0c3"
      },
      "execution_count": 7,
      "outputs": [
        {
          "output_type": "execute_result",
          "data": {
            "application/vnd.google.colaboratory.intrinsic+json": {
              "type": "string"
            },
            "text/plain": [
              "'cuda'"
            ]
          },
          "metadata": {},
          "execution_count": 7
        }
      ]
    },
    {
      "cell_type": "code",
      "source": [
        "model_name =  \"distilbert-base-uncased\""
      ],
      "metadata": {
        "id": "6V0arb4xkvG-"
      },
      "execution_count": 8,
      "outputs": []
    },
    {
      "cell_type": "markdown",
      "source": [
        "## 1) Import Data\n",
        "\n"
      ],
      "metadata": {
        "id": "wQyjnbikOrKD"
      }
    },
    {
      "cell_type": "code",
      "source": [
        "from google.colab import drive\n",
        "drive.mount('/content/drive')"
      ],
      "metadata": {
        "colab": {
          "base_uri": "https://localhost:8080/"
        },
        "id": "ID2vfxSqOvC6",
        "outputId": "4152b365-18a8-4ec3-a363-75d5582797a7"
      },
      "execution_count": 9,
      "outputs": [
        {
          "output_type": "stream",
          "name": "stdout",
          "text": [
            "Drive already mounted at /content/drive; to attempt to forcibly remount, call drive.mount(\"/content/drive\", force_remount=True).\n"
          ]
        }
      ]
    },
    {
      "cell_type": "code",
      "source": [
        "# download from https://deepai.org/dataset/qnli\n",
        "data_dir = \"/content/drive/My Drive/Colab Notebooks/Data/QNLIv2/QNLI\""
      ],
      "metadata": {
        "id": "OEtzG5rUPp6p"
      },
      "execution_count": 10,
      "outputs": []
    },
    {
      "cell_type": "code",
      "source": [
        "os.listdir(data_dir)\n"
      ],
      "metadata": {
        "colab": {
          "base_uri": "https://localhost:8080/"
        },
        "id": "3tuN7B5fP7HN",
        "outputId": "afc14724-f7f1-41db-f0ae-77aa730ba6a0"
      },
      "execution_count": 11,
      "outputs": [
        {
          "output_type": "execute_result",
          "data": {
            "text/plain": [
              "['train.tsv', 'test.tsv', 'dev.tsv']"
            ]
          },
          "metadata": {},
          "execution_count": 11
        }
      ]
    },
    {
      "cell_type": "code",
      "source": [
        "def read_qnli_data(file_name):\n",
        "    path = os.path.join(data_dir,file_name)\n",
        "    with open(path) as f:\n",
        "        text = f.readlines()\n",
        "\n",
        "    header = text[0].strip().split(\"\\t\")\n",
        "    lines = [line.strip().split(\"\\t\") for line in text[1:]]\n",
        "\n",
        "    df = pd.DataFrame(lines,columns = header)\n",
        "    return df"
      ],
      "metadata": {
        "id": "NlTPttaBP-El"
      },
      "execution_count": 12,
      "outputs": []
    },
    {
      "cell_type": "code",
      "source": [
        "qnli_train_df = read_qnli_data(\"train.tsv\")\n",
        "qnli_dev_df = read_qnli_data(\"dev.tsv\")\n"
      ],
      "metadata": {
        "id": "zX5UlKcpQ39f"
      },
      "execution_count": 13,
      "outputs": []
    },
    {
      "cell_type": "code",
      "source": [
        "qnli_train_df['label'] = np.where(qnli_train_df['label']=='entailment',1,0)\n",
        "qnli_dev_df['label'] = np.where(qnli_dev_df['label']=='entailment',1,0)"
      ],
      "metadata": {
        "id": "sIqZDA5KQ-NG"
      },
      "execution_count": 14,
      "outputs": []
    },
    {
      "cell_type": "code",
      "source": [
        "qnli_dev_df.head()"
      ],
      "metadata": {
        "colab": {
          "base_uri": "https://localhost:8080/",
          "height": 206
        },
        "id": "OxabReasRZvG",
        "outputId": "201babd5-0fc0-479d-8789-e69c28e9ef41"
      },
      "execution_count": 15,
      "outputs": [
        {
          "output_type": "execute_result",
          "data": {
            "text/html": [
              "\n",
              "  <div id=\"df-8f93eab6-c1a6-4c67-a35d-5f601837c5f0\">\n",
              "    <div class=\"colab-df-container\">\n",
              "      <div>\n",
              "<style scoped>\n",
              "    .dataframe tbody tr th:only-of-type {\n",
              "        vertical-align: middle;\n",
              "    }\n",
              "\n",
              "    .dataframe tbody tr th {\n",
              "        vertical-align: top;\n",
              "    }\n",
              "\n",
              "    .dataframe thead th {\n",
              "        text-align: right;\n",
              "    }\n",
              "</style>\n",
              "<table border=\"1\" class=\"dataframe\">\n",
              "  <thead>\n",
              "    <tr style=\"text-align: right;\">\n",
              "      <th></th>\n",
              "      <th>index</th>\n",
              "      <th>question</th>\n",
              "      <th>sentence</th>\n",
              "      <th>label</th>\n",
              "    </tr>\n",
              "  </thead>\n",
              "  <tbody>\n",
              "    <tr>\n",
              "      <th>0</th>\n",
              "      <td>0</td>\n",
              "      <td>What came into force after the new constitutio...</td>\n",
              "      <td>As of that day, the new constitution heralding...</td>\n",
              "      <td>1</td>\n",
              "    </tr>\n",
              "    <tr>\n",
              "      <th>1</th>\n",
              "      <td>1</td>\n",
              "      <td>What is the first major city in the stream of ...</td>\n",
              "      <td>The most important tributaries in this area ar...</td>\n",
              "      <td>0</td>\n",
              "    </tr>\n",
              "    <tr>\n",
              "      <th>2</th>\n",
              "      <td>2</td>\n",
              "      <td>What is the minimum required if you want to te...</td>\n",
              "      <td>In most provinces a second Bachelor's Degree s...</td>\n",
              "      <td>0</td>\n",
              "    </tr>\n",
              "    <tr>\n",
              "      <th>3</th>\n",
              "      <td>3</td>\n",
              "      <td>How was Temüjin kept imprisoned by the Tayichi...</td>\n",
              "      <td>The Tayichi'ud enslaved Temüjin (reportedly wi...</td>\n",
              "      <td>1</td>\n",
              "    </tr>\n",
              "    <tr>\n",
              "      <th>4</th>\n",
              "      <td>4</td>\n",
              "      <td>What did Herr Gott, dich loben wir become know...</td>\n",
              "      <td>He paraphrased the Te Deum as \"Herr Gott, dich...</td>\n",
              "      <td>0</td>\n",
              "    </tr>\n",
              "  </tbody>\n",
              "</table>\n",
              "</div>\n",
              "      <button class=\"colab-df-convert\" onclick=\"convertToInteractive('df-8f93eab6-c1a6-4c67-a35d-5f601837c5f0')\"\n",
              "              title=\"Convert this dataframe to an interactive table.\"\n",
              "              style=\"display:none;\">\n",
              "        \n",
              "  <svg xmlns=\"http://www.w3.org/2000/svg\" height=\"24px\"viewBox=\"0 0 24 24\"\n",
              "       width=\"24px\">\n",
              "    <path d=\"M0 0h24v24H0V0z\" fill=\"none\"/>\n",
              "    <path d=\"M18.56 5.44l.94 2.06.94-2.06 2.06-.94-2.06-.94-.94-2.06-.94 2.06-2.06.94zm-11 1L8.5 8.5l.94-2.06 2.06-.94-2.06-.94L8.5 2.5l-.94 2.06-2.06.94zm10 10l.94 2.06.94-2.06 2.06-.94-2.06-.94-.94-2.06-.94 2.06-2.06.94z\"/><path d=\"M17.41 7.96l-1.37-1.37c-.4-.4-.92-.59-1.43-.59-.52 0-1.04.2-1.43.59L10.3 9.45l-7.72 7.72c-.78.78-.78 2.05 0 2.83L4 21.41c.39.39.9.59 1.41.59.51 0 1.02-.2 1.41-.59l7.78-7.78 2.81-2.81c.8-.78.8-2.07 0-2.86zM5.41 20L4 18.59l7.72-7.72 1.47 1.35L5.41 20z\"/>\n",
              "  </svg>\n",
              "      </button>\n",
              "      \n",
              "  <style>\n",
              "    .colab-df-container {\n",
              "      display:flex;\n",
              "      flex-wrap:wrap;\n",
              "      gap: 12px;\n",
              "    }\n",
              "\n",
              "    .colab-df-convert {\n",
              "      background-color: #E8F0FE;\n",
              "      border: none;\n",
              "      border-radius: 50%;\n",
              "      cursor: pointer;\n",
              "      display: none;\n",
              "      fill: #1967D2;\n",
              "      height: 32px;\n",
              "      padding: 0 0 0 0;\n",
              "      width: 32px;\n",
              "    }\n",
              "\n",
              "    .colab-df-convert:hover {\n",
              "      background-color: #E2EBFA;\n",
              "      box-shadow: 0px 1px 2px rgba(60, 64, 67, 0.3), 0px 1px 3px 1px rgba(60, 64, 67, 0.15);\n",
              "      fill: #174EA6;\n",
              "    }\n",
              "\n",
              "    [theme=dark] .colab-df-convert {\n",
              "      background-color: #3B4455;\n",
              "      fill: #D2E3FC;\n",
              "    }\n",
              "\n",
              "    [theme=dark] .colab-df-convert:hover {\n",
              "      background-color: #434B5C;\n",
              "      box-shadow: 0px 1px 3px 1px rgba(0, 0, 0, 0.15);\n",
              "      filter: drop-shadow(0px 1px 2px rgba(0, 0, 0, 0.3));\n",
              "      fill: #FFFFFF;\n",
              "    }\n",
              "  </style>\n",
              "\n",
              "      <script>\n",
              "        const buttonEl =\n",
              "          document.querySelector('#df-8f93eab6-c1a6-4c67-a35d-5f601837c5f0 button.colab-df-convert');\n",
              "        buttonEl.style.display =\n",
              "          google.colab.kernel.accessAllowed ? 'block' : 'none';\n",
              "\n",
              "        async function convertToInteractive(key) {\n",
              "          const element = document.querySelector('#df-8f93eab6-c1a6-4c67-a35d-5f601837c5f0');\n",
              "          const dataTable =\n",
              "            await google.colab.kernel.invokeFunction('convertToInteractive',\n",
              "                                                     [key], {});\n",
              "          if (!dataTable) return;\n",
              "\n",
              "          const docLinkHtml = 'Like what you see? Visit the ' +\n",
              "            '<a target=\"_blank\" href=https://colab.research.google.com/notebooks/data_table.ipynb>data table notebook</a>'\n",
              "            + ' to learn more about interactive tables.';\n",
              "          element.innerHTML = '';\n",
              "          dataTable['output_type'] = 'display_data';\n",
              "          await google.colab.output.renderOutput(dataTable, element);\n",
              "          const docLink = document.createElement('div');\n",
              "          docLink.innerHTML = docLinkHtml;\n",
              "          element.appendChild(docLink);\n",
              "        }\n",
              "      </script>\n",
              "    </div>\n",
              "  </div>\n",
              "  "
            ],
            "text/plain": [
              "  index  ... label\n",
              "0     0  ...     1\n",
              "1     1  ...     0\n",
              "2     2  ...     0\n",
              "3     3  ...     1\n",
              "4     4  ...     0\n",
              "\n",
              "[5 rows x 4 columns]"
            ]
          },
          "metadata": {},
          "execution_count": 15
        }
      ]
    },
    {
      "cell_type": "markdown",
      "source": [
        "## 2) Tokenization Features Engineering"
      ],
      "metadata": {
        "id": "xazR7eZpXcZs"
      }
    },
    {
      "cell_type": "code",
      "source": [
        "max_length = 512"
      ],
      "metadata": {
        "id": "N61l98MhbURZ"
      },
      "execution_count": 16,
      "outputs": []
    },
    {
      "cell_type": "code",
      "source": [
        "tokenizer = AutoTokenizer.from_pretrained(model_name)"
      ],
      "metadata": {
        "id": "e5DLd3b3aqde"
      },
      "execution_count": 17,
      "outputs": []
    },
    {
      "cell_type": "code",
      "source": [
        "question = qnli_train_df['question'].iloc[0]\n",
        "sentence = qnli_train_df['sentence'].iloc[0]"
      ],
      "metadata": {
        "id": "-etjdTo9Rnm_"
      },
      "execution_count": 18,
      "outputs": []
    },
    {
      "cell_type": "code",
      "source": [
        "inputs = tokenizer(\n",
        "    text = question,\n",
        "    text_pair = sentence,\n",
        "    add_special_tokens = True,\n",
        "    max_length = max_length,\n",
        "    padding = \"max_length\",\n",
        "    return_token_type_ids = False,\n",
        "    truncation = True,\n",
        "    )"
      ],
      "metadata": {
        "id": "m8A0errVzdT3"
      },
      "execution_count": 19,
      "outputs": []
    },
    {
      "cell_type": "code",
      "source": [
        "inputs.keys()"
      ],
      "metadata": {
        "colab": {
          "base_uri": "https://localhost:8080/"
        },
        "id": "Wz2MInsJzgp-",
        "outputId": "04163de3-8741-46a7-b9f8-5dc9f8e7f231"
      },
      "execution_count": 20,
      "outputs": [
        {
          "output_type": "execute_result",
          "data": {
            "text/plain": [
              "dict_keys(['input_ids', 'attention_mask'])"
            ]
          },
          "metadata": {},
          "execution_count": 20
        }
      ]
    },
    {
      "cell_type": "code",
      "source": [
        "class QNLIDataset(Dataset):\n",
        "    def __init__(self,dataframe,tokenizer,max_length,device):\n",
        "        self.len = len(dataframe)\n",
        "        self.df = dataframe\n",
        "        self.tokenizer = tokenizer\n",
        "        self.max_length = max_length\n",
        "        self.device = device\n",
        "        self.question_list = self.df['question'].to_list()\n",
        "        self.sentence_list = self.df['sentence'].to_list()\n",
        "        self.label_list = self.df['label'].to_list()\n",
        "\n",
        "    def __len__(self):\n",
        "        return self.len\n",
        "    \n",
        "    def __getitem__(self,index):\n",
        "        question = self.question_list[index]\n",
        "        sentence = self.sentence_list[index]\n",
        "        label = self.label_list[index]\n",
        "\n",
        "        inputs = self.tokenizer(\n",
        "            text = question,\n",
        "            text_pair = sentence,\n",
        "            add_special_tokens = True,\n",
        "            max_length = max_length,\n",
        "            padding = \"max_length\",\n",
        "            return_token_type_ids = False,\n",
        "            truncation = True,\n",
        "            # return_tensors = 'pt',\n",
        "            )\n",
        "        \n",
        "        inputs= {\n",
        "            'input_ids':torch.tensor(inputs['input_ids']),\n",
        "            'attention_mask':torch.tensor(inputs['attention_mask']),\n",
        "            'labels':torch.tensor(label),\n",
        "        }\n",
        "\n",
        "        inputs = {k:v.to(self.device) for (k,v) in inputs.items()}\n",
        "\n",
        "        return inputs"
      ],
      "metadata": {
        "id": "55ibAcXvxrJD"
      },
      "execution_count": 21,
      "outputs": []
    },
    {
      "cell_type": "code",
      "source": [
        "train_sample_size = 500\n",
        "test_sample_size = 100"
      ],
      "metadata": {
        "id": "5tnvMQUhgyHL"
      },
      "execution_count": 39,
      "outputs": []
    },
    {
      "cell_type": "code",
      "source": [
        "train_dataset = QNLIDataset(qnli_train_df[:train_sample_size],tokenizer,max_length,'cpu')\n",
        "dev_dataset = QNLIDataset(qnli_dev_df[:test_sample_size],tokenizer,max_length,'cpu')"
      ],
      "metadata": {
        "id": "uj3GQBeESkRl"
      },
      "execution_count": 40,
      "outputs": []
    },
    {
      "cell_type": "code",
      "source": [
        "train_dataset[:2]"
      ],
      "metadata": {
        "colab": {
          "base_uri": "https://localhost:8080/"
        },
        "id": "124ORPt1f-FM",
        "outputId": "140bcf25-7b36-41f7-b3b1-7bc40a1f5c94"
      },
      "execution_count": 41,
      "outputs": [
        {
          "output_type": "execute_result",
          "data": {
            "text/plain": [
              "{'attention_mask': tensor([[1, 1, 1,  ..., 0, 0, 0],\n",
              "         [1, 1, 1,  ..., 0, 0, 0]]),\n",
              " 'input_ids': tensor([[ 101, 2043, 2106,  ...,    0,    0,    0],\n",
              "         [ 101, 2029, 7421,  ...,    0,    0,    0]]),\n",
              " 'labels': tensor([0, 0])}"
            ]
          },
          "metadata": {},
          "execution_count": 41
        }
      ]
    },
    {
      "cell_type": "markdown",
      "source": [
        "##3) Fine Tune Model"
      ],
      "metadata": {
        "id": "OxoYzNGj6Q6S"
      }
    },
    {
      "cell_type": "code",
      "source": [
        "model = DistilBertForSequenceClassification.from_pretrained(model_name)"
      ],
      "metadata": {
        "colab": {
          "base_uri": "https://localhost:8080/"
        },
        "id": "g-wN-kTTTyU1",
        "outputId": "7151faa3-868c-4f49-9d3a-18110ebf477d"
      },
      "execution_count": 24,
      "outputs": [
        {
          "output_type": "stream",
          "name": "stderr",
          "text": [
            "Some weights of the model checkpoint at distilbert-base-uncased were not used when initializing DistilBertForSequenceClassification: ['vocab_transform.weight', 'vocab_transform.bias', 'vocab_layer_norm.weight', 'vocab_layer_norm.bias', 'vocab_projector.weight', 'vocab_projector.bias']\n",
            "- This IS expected if you are initializing DistilBertForSequenceClassification from the checkpoint of a model trained on another task or with another architecture (e.g. initializing a BertForSequenceClassification model from a BertForPreTraining model).\n",
            "- This IS NOT expected if you are initializing DistilBertForSequenceClassification from the checkpoint of a model that you expect to be exactly identical (initializing a BertForSequenceClassification model from a BertForSequenceClassification model).\n",
            "Some weights of DistilBertForSequenceClassification were not initialized from the model checkpoint at distilbert-base-uncased and are newly initialized: ['pre_classifier.weight', 'pre_classifier.bias', 'classifier.weight', 'classifier.bias']\n",
            "You should probably TRAIN this model on a down-stream task to be able to use it for predictions and inference.\n"
          ]
        }
      ]
    },
    {
      "cell_type": "code",
      "source": [
        "model = model.to(device)"
      ],
      "metadata": {
        "id": "AYnGqsMeUjkl"
      },
      "execution_count": 25,
      "outputs": []
    },
    {
      "cell_type": "code",
      "source": [
        "# \"\"\"test\"\"\"\n",
        "# sample_data = train_dataset[:6]\n",
        "# model(**sample_data)"
      ],
      "metadata": {
        "id": "uVx413ag_kCC"
      },
      "execution_count": 26,
      "outputs": []
    },
    {
      "cell_type": "code",
      "source": [
        "\n"
      ],
      "metadata": {
        "id": "sZZ2tUm7eKDX"
      },
      "execution_count": 26,
      "outputs": []
    },
    {
      "cell_type": "code",
      "source": [
        "def compute_metrics(inputs):\n",
        "    pred,labels = inputs\n",
        "    pred = np.argmax(pred,axis = 1)\n",
        "    accuracy = metrics.accuracy_score(labels,pred)\n",
        "    recall = metrics.recall_score(labels,pred)\n",
        "    precision = metrics.precision_score(labels,pred)\n",
        "    f1 = metrics.f1_score(labels,pred)\n",
        "\n",
        "    return {\"accuracy\":accuracy, \"recall\":recall, \"precision\":precision, \"recall\":recall, f1:\"f1\"} "
      ],
      "metadata": {
        "id": "--cuP_8lVINV"
      },
      "execution_count": 27,
      "outputs": []
    },
    {
      "cell_type": "code",
      "source": [
        "model_save_path = \"/content/drive/My Drive/Colab Notebooks/Models/QNLI\""
      ],
      "metadata": {
        "id": "9K41WewNWEYm"
      },
      "execution_count": 28,
      "outputs": []
    },
    {
      "cell_type": "code",
      "source": [
        "batch_size = 16"
      ],
      "metadata": {
        "id": "Nm64nL7LW4Rj"
      },
      "execution_count": 29,
      "outputs": []
    },
    {
      "cell_type": "code",
      "source": [
        "args = TrainingArguments(\n",
        "    \n",
        "    model_save_path,\n",
        "    evaluation_strategy = \"steps\",\n",
        "    eval_steps = 200,\n",
        "    logging_steps = 400,\n",
        "    save_steps = 400,\n",
        "    do_train = True,\n",
        "    do_eval = True,\n",
        "    learning_rate = 2e-5,\n",
        "    per_device_train_batch_size = batch_size,\n",
        "    per_device_eval_batch_size = batch_size,\n",
        "    num_train_epochs = 3,\n",
        "    seed = 0,\n",
        "    load_best_model_at_end = True,\n",
        ")\n"
      ],
      "metadata": {
        "id": "H4wle2gdVws5"
      },
      "execution_count": 42,
      "outputs": []
    },
    {
      "cell_type": "code",
      "source": [
        "train_dataset[:3]"
      ],
      "metadata": {
        "colab": {
          "base_uri": "https://localhost:8080/"
        },
        "id": "LFnx6-VhbVpV",
        "outputId": "ddb9f26d-8b3c-4ed7-bd8c-fef30c1868a0"
      },
      "execution_count": 43,
      "outputs": [
        {
          "output_type": "execute_result",
          "data": {
            "text/plain": [
              "{'attention_mask': tensor([[1, 1, 1,  ..., 0, 0, 0],\n",
              "         [1, 1, 1,  ..., 0, 0, 0],\n",
              "         [1, 1, 1,  ..., 0, 0, 0]]),\n",
              " 'input_ids': tensor([[ 101, 2043, 2106,  ...,    0,    0,    0],\n",
              "         [ 101, 2029, 7421,  ...,    0,    0,    0],\n",
              "         [ 101, 2054, 2048,  ...,    0,    0,    0]]),\n",
              " 'labels': tensor([0, 0, 1])}"
            ]
          },
          "metadata": {},
          "execution_count": 43
        }
      ]
    },
    {
      "cell_type": "code",
      "source": [
        "trainer  = Trainer(\n",
        "    model = model,\n",
        "    args = args,\n",
        "    train_dataset =train_dataset,\n",
        "    eval_dataset = dev_dataset ,\n",
        "    compute_metrics = compute_metrics,\n",
        "    callbacks = [EarlyStoppingCallback] \n",
        ")\n"
      ],
      "metadata": {
        "id": "5aAzsLKXUyle"
      },
      "execution_count": 44,
      "outputs": []
    },
    {
      "cell_type": "code",
      "source": [
        "trainer.train()\n"
      ],
      "metadata": {
        "colab": {
          "base_uri": "https://localhost:8080/",
          "height": 113
        },
        "id": "9ijS8V92ZJ7d",
        "outputId": "c77039a4-f68c-4ddc-b413-2df2858856c4"
      },
      "execution_count": 45,
      "outputs": [
        {
          "output_type": "display_data",
          "data": {
            "text/html": [
              "\n",
              "    <div>\n",
              "        <style>\n",
              "            /* Turns off some styling */\n",
              "            progress {\n",
              "                /* gets rid of default border in Firefox and Opera. */\n",
              "                border: none;\n",
              "                /* Needs to be in here for Safari polyfill so background images work as expected. */\n",
              "                background-size: auto;\n",
              "            }\n",
              "        </style>\n",
              "      \n",
              "      <progress value='96' max='96' style='width:300px; height:20px; vertical-align: middle;'></progress>\n",
              "      [96/96 02:16, Epoch 3/3]\n",
              "    </div>\n",
              "    <table border=\"1\" class=\"dataframe\">\n",
              "  <thead>\n",
              "    <tr style=\"text-align: left;\">\n",
              "      <th>Step</th>\n",
              "      <th>Training Loss</th>\n",
              "      <th>Validation Loss</th>\n",
              "    </tr>\n",
              "  </thead>\n",
              "  <tbody>\n",
              "  </tbody>\n",
              "</table><p>"
            ],
            "text/plain": [
              "<IPython.core.display.HTML object>"
            ]
          },
          "metadata": {}
        },
        {
          "output_type": "execute_result",
          "data": {
            "text/plain": [
              "TrainOutput(global_step=96, training_loss=0.6301178534825643, metrics={'train_runtime': 138.0628, 'train_samples_per_second': 0.695, 'total_flos': 308528686080000.0, 'epoch': 3.0, 'init_mem_cpu_alloc_delta': 8192, 'init_mem_gpu_alloc_delta': 0, 'init_mem_cpu_peaked_delta': 0, 'init_mem_gpu_peaked_delta': 0, 'train_mem_cpu_alloc_delta': 12288, 'train_mem_gpu_alloc_delta': 535674880, 'train_mem_cpu_peaked_delta': 0, 'train_mem_gpu_peaked_delta': 6563778560})"
            ]
          },
          "metadata": {},
          "execution_count": 45
        }
      ]
    },
    {
      "cell_type": "markdown",
      "source": [
        "## 4) Evaluate "
      ],
      "metadata": {
        "id": "gS3e_75cYKRz"
      }
    },
    {
      "cell_type": "code",
      "source": [
        "from tqdm import tqdm"
      ],
      "metadata": {
        "id": "rNNijLQlht58"
      },
      "execution_count": 50,
      "outputs": []
    },
    {
      "cell_type": "code",
      "source": [
        "def evaluate_with_batch(model,dataset,batch_size,device):\n",
        "    dataset_loader = DataLoader(dataset,batch_size)\n",
        "\n",
        "    model.eval()\n",
        "\n",
        "    loss_list = []\n",
        "    labels_list = []\n",
        "    pred_list = []\n",
        "    prob_list = []\n",
        "\n",
        "    pbar = tqdm(total = len(dataset_loader),desc = \"Model Evaluate\")\n",
        "\n",
        "\n",
        "    for sample in dataset_loader:\n",
        "        sample = {k:v.to(device) for (k,v) in sample.items()}\n",
        "\n",
        "        with torch.no_grad():\n",
        "            batch_result = model(**sample)\n",
        "        \n",
        "        loss = batch_result.loss.item()\n",
        "        loss_list.append(loss)\n",
        "\n",
        "        labels = sample['labels']\n",
        "        del sample\n",
        "\n",
        "        labels  = labels.detach().cpu().numpy()\n",
        "        labels_list.extend(labels)\n",
        "\n",
        "        logits = batch_result.logits\n",
        "        probs = torch.sigmoid(logits)\n",
        "        \n",
        "        pred = torch.argmax(probs,axis = 1)\n",
        "        pred = pred.detach().cpu().numpy()\n",
        "        pred_list.extend(pred)\n",
        "\n",
        "        prob = probs[:,1]\n",
        "        prob = prob.detach().cpu().numpy()\n",
        "        prob_list.extend(prob)\n",
        "\n",
        "        pbar.update(1)\n",
        "\n",
        "    pbar.close()\n",
        "\n",
        "\n",
        "    accuracy = metrics.accuracy_score(labels_list,pred_list)\n",
        "    recall = metrics.recall_score(labels_list,pred_list)\n",
        "    precision = metrics.precision_score(labels_list,pred_list)\n",
        "    f1 = metrics.f1_score(labels_list,pred_list)\n",
        "    fpr,tpr, threshold = metrics.roc_curve(labels_list,prob_list,pos_label=1)\n",
        "\n",
        "    auc =metrics.auc(fpr,tpr)\n",
        "    loss = np.mean(loss_list)\n",
        "\n",
        "    return {\"accuracy\":accuracy, \"recall\":recall, \"precision\":precision, \"recall\":recall, \"f1\":f1,'auc':auc,'loss':loss} "
      ],
      "metadata": {
        "id": "gLU9Ncb7YF8E"
      },
      "execution_count": 68,
      "outputs": []
    },
    {
      "cell_type": "code",
      "source": [
        "evaluate_result = evaluate_with_batch(model,dev_dataset,batch_size,device)"
      ],
      "metadata": {
        "colab": {
          "base_uri": "https://localhost:8080/"
        },
        "id": "d3h30PRLayBk",
        "outputId": "f16b048a-3d51-4dac-9043-da3a3d6f1475"
      },
      "execution_count": 69,
      "outputs": [
        {
          "output_type": "stream",
          "name": "stderr",
          "text": [
            "Model Evaluate: 100%|██████████| 7/7 [00:03<00:00,  2.09it/s]\n"
          ]
        }
      ]
    },
    {
      "cell_type": "code",
      "source": [
        "evaluate_result"
      ],
      "metadata": {
        "colab": {
          "base_uri": "https://localhost:8080/"
        },
        "id": "l5kfBmZXjDpt",
        "outputId": "01ee32f2-6b8f-4677-c66b-15c38911c01a"
      },
      "execution_count": 70,
      "outputs": [
        {
          "output_type": "execute_result",
          "data": {
            "text/plain": [
              "{'accuracy': 0.7,\n",
              " 'auc': 0.7567676767676766,\n",
              " 'f1': 0.6808510638297872,\n",
              " 'loss': 0.5915191173553467,\n",
              " 'precision': 0.6530612244897959,\n",
              " 'recall': 0.7111111111111111}"
            ]
          },
          "metadata": {},
          "execution_count": 70
        }
      ]
    },
    {
      "cell_type": "code",
      "source": [
        ""
      ],
      "metadata": {
        "id": "S3zXjSsHjZup"
      },
      "execution_count": null,
      "outputs": []
    }
  ],
  "metadata": {
    "colab": {
      "name": "Fine Tune DistilBERT For  Text Pair Matching",
      "provenance": [],
      "collapsed_sections": [],
      "toc_visible": true
    },
    "language_info": {
      "name": "python"
    },
    "kernelspec": {
      "name": "python3",
      "display_name": "Python 3"
    },
    "accelerator": "GPU"
  },
  "nbformat": 4,
  "nbformat_minor": 0
}