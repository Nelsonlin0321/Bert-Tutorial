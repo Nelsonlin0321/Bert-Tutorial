{
  "cells": [
    {
      "cell_type": "markdown",
      "source": [
        "# Fine Tune BERT For  MultiClass Text Classification\n",
        "Author: Nelson LIN (nelsonlin0321@outlook.com)"
      ],
      "metadata": {
        "id": "MoZ-3s0mN4JG"
      }
    },
    {
      "cell_type": "code",
      "source": [
        "# import libaries\n",
        "import torch\n",
        "from torch import cuda\n",
        "from torch.utils.data import Dataset,DataLoader"
      ],
      "metadata": {
        "id": "drMVKL8eN5oS"
      },
      "execution_count": 307,
      "outputs": []
    },
    {
      "cell_type": "code",
      "source": [
        "import os\n",
        "import json\n",
        "import random\n",
        "import pandas as pd\n",
        "import numpy as np\n",
        "from sklearn.utils import shuffle\n",
        "from sklearn import metrics\n",
        "from collections import Counter"
      ],
      "metadata": {
        "id": "fTq-NCOvOFFD"
      },
      "execution_count": 308,
      "outputs": []
    },
    {
      "cell_type": "code",
      "source": [
        "# !pip install transformers"
      ],
      "metadata": {
        "id": "Eyjlx0JdOX2n"
      },
      "execution_count": 309,
      "outputs": []
    },
    {
      "cell_type": "code",
      "source": [
        "from transformers import AutoTokenizer,DistilBertModel,default_data_collator"
      ],
      "metadata": {
        "id": "qiBbyLVoON3Y"
      },
      "execution_count": 310,
      "outputs": []
    },
    {
      "cell_type": "code",
      "source": [
        "device = \"cuda\" if cuda.is_available() else \"cpu\""
      ],
      "metadata": {
        "id": "G4uhX374OVlZ"
      },
      "execution_count": 311,
      "outputs": []
    },
    {
      "cell_type": "code",
      "source": [
        "device"
      ],
      "metadata": {
        "colab": {
          "base_uri": "https://localhost:8080/",
          "height": 35
        },
        "id": "kfXjwuzfQToR",
        "outputId": "e552687c-dd84-415d-cd24-6955c7a8731a"
      },
      "execution_count": 312,
      "outputs": [
        {
          "output_type": "execute_result",
          "data": {
            "application/vnd.google.colaboratory.intrinsic+json": {
              "type": "string"
            },
            "text/plain": [
              "'cpu'"
            ]
          },
          "metadata": {},
          "execution_count": 312
        }
      ]
    },
    {
      "cell_type": "code",
      "source": [
        "model_name =  \"distilbert-base-uncased\""
      ],
      "metadata": {
        "id": "6V0arb4xkvG-"
      },
      "execution_count": 313,
      "outputs": []
    },
    {
      "cell_type": "markdown",
      "source": [
        "## 1) Import Data\n",
        "\n"
      ],
      "metadata": {
        "id": "wQyjnbikOrKD"
      }
    },
    {
      "cell_type": "code",
      "source": [
        "from google.colab import drive\n",
        "drive.mount('/content/drive')"
      ],
      "metadata": {
        "colab": {
          "base_uri": "https://localhost:8080/"
        },
        "id": "ID2vfxSqOvC6",
        "outputId": "bdfe88e1-5b8f-4892-94c5-465c9f68a6ca"
      },
      "execution_count": 314,
      "outputs": [
        {
          "output_type": "stream",
          "name": "stdout",
          "text": [
            "Drive already mounted at /content/drive; to attempt to forcibly remount, call drive.mount(\"/content/drive\", force_remount=True).\n"
          ]
        }
      ]
    },
    {
      "cell_type": "code",
      "source": [
        "# download from https://archive.ics.uci.edu/ml/machine-learning-databases/00359/NewsAggregatorDataset.zip\n",
        "data_path = \"/content/drive/My Drive/Colab Notebooks/Data/NewsAggregatorDataset/newsCorpora.csv\""
      ],
      "metadata": {
        "id": "OEtzG5rUPp6p"
      },
      "execution_count": 315,
      "outputs": []
    },
    {
      "cell_type": "code",
      "source": [
        "sample_size = 1000"
      ],
      "metadata": {
        "id": "UMjCZtPWwEWY"
      },
      "execution_count": 316,
      "outputs": []
    },
    {
      "cell_type": "code",
      "source": [
        "columns = \" ID \\t TITLE \\t URL \\t PUBLISHER \\t CATEGORY \\t STORY \\t HOSTNAME \\t TIMESTAMP\".split(\"\\t\") "
      ],
      "metadata": {
        "id": "FJQdCYkowe8Z"
      },
      "execution_count": 317,
      "outputs": []
    },
    {
      "cell_type": "code",
      "source": [
        "columns = [col.strip() for col in columns]"
      ],
      "metadata": {
        "id": "dKdEfA9nwkdM"
      },
      "execution_count": 318,
      "outputs": []
    },
    {
      "cell_type": "code",
      "source": [
        "df = pd.read_csv(data_path,sep = \"\\t\",names =columns)"
      ],
      "metadata": {
        "id": "-wPJ-OPewHDe"
      },
      "execution_count": 319,
      "outputs": []
    },
    {
      "cell_type": "code",
      "source": [
        "df = shuffle(df)\n",
        "df = df.head(sample_size)"
      ],
      "metadata": {
        "id": "hWXil6fywLjX"
      },
      "execution_count": 320,
      "outputs": []
    },
    {
      "cell_type": "code",
      "source": [
        "category_dict = {       \"e\":0,\n",
        "                 \"b\":1,\n",
        "                 \"t\":2,\n",
        "                 \"m\":3}"
      ],
      "metadata": {
        "id": "C6WKH1Rbw9C1"
      },
      "execution_count": 321,
      "outputs": []
    },
    {
      "cell_type": "code",
      "source": [
        "df['label'] = df['CATEGORY'].map(category_dict)"
      ],
      "metadata": {
        "id": "Rr05luuDxS8_"
      },
      "execution_count": 322,
      "outputs": []
    },
    {
      "cell_type": "code",
      "source": [
        "df.head()"
      ],
      "metadata": {
        "colab": {
          "base_uri": "https://localhost:8080/",
          "height": 652
        },
        "id": "LUmbfBPdy2Q7",
        "outputId": "0d11d4f3-88ac-4d93-bbf7-29c4d90ababd"
      },
      "execution_count": 323,
      "outputs": [
        {
          "output_type": "execute_result",
          "data": {
            "text/html": [
              "\n",
              "  <div id=\"df-ea10cd9d-8723-4ba2-b566-d476571398a9\">\n",
              "    <div class=\"colab-df-container\">\n",
              "      <div>\n",
              "<style scoped>\n",
              "    .dataframe tbody tr th:only-of-type {\n",
              "        vertical-align: middle;\n",
              "    }\n",
              "\n",
              "    .dataframe tbody tr th {\n",
              "        vertical-align: top;\n",
              "    }\n",
              "\n",
              "    .dataframe thead th {\n",
              "        text-align: right;\n",
              "    }\n",
              "</style>\n",
              "<table border=\"1\" class=\"dataframe\">\n",
              "  <thead>\n",
              "    <tr style=\"text-align: right;\">\n",
              "      <th></th>\n",
              "      <th>ID</th>\n",
              "      <th>TITLE</th>\n",
              "      <th>URL</th>\n",
              "      <th>PUBLISHER</th>\n",
              "      <th>CATEGORY</th>\n",
              "      <th>STORY</th>\n",
              "      <th>HOSTNAME</th>\n",
              "      <th>TIMESTAMP</th>\n",
              "      <th>label</th>\n",
              "    </tr>\n",
              "  </thead>\n",
              "  <tbody>\n",
              "    <tr>\n",
              "      <th>70258</th>\n",
              "      <td>70334</td>\n",
              "      <td>Michael Lewis: Wall Street Is Cheating The Sys...</td>\n",
              "      <td>http://www.inquisitr.com/1194169/michael-lewis...</td>\n",
              "      <td>The Inquisitr</td>\n",
              "      <td>b</td>\n",
              "      <td>dI0sNpL3ozAVfgMyCWX_cuVlOgAJM</td>\n",
              "      <td>www.inquisitr.com</td>\n",
              "      <td>1396283154708</td>\n",
              "      <td>1</td>\n",
              "    </tr>\n",
              "    <tr>\n",
              "      <th>10451</th>\n",
              "      <td>10452</td>\n",
              "      <td>Download VLC Media Player Free for Windows 8</td>\n",
              "      <td>http://societyandreligion.com/download-vlc-med...</td>\n",
              "      <td>Society and Religion</td>\n",
              "      <td>t</td>\n",
              "      <td>d40S-xOIhKkqVaMhQMBy9BXYz83IM</td>\n",
              "      <td>societyandreligion.com</td>\n",
              "      <td>1394716110597</td>\n",
              "      <td>2</td>\n",
              "    </tr>\n",
              "    <tr>\n",
              "      <th>147450</th>\n",
              "      <td>147786</td>\n",
              "      <td>Danny Boyle to direct Steve Jobs movie?</td>\n",
              "      <td>http://www.digitalspy.com/movies/news/a565816/...</td>\n",
              "      <td>Digital Spy</td>\n",
              "      <td>e</td>\n",
              "      <td>drNw5N1I4wpYFxM084jf-nbrZq0cM</td>\n",
              "      <td>www.digitalspy.com</td>\n",
              "      <td>1398167148959</td>\n",
              "      <td>0</td>\n",
              "    </tr>\n",
              "    <tr>\n",
              "      <th>320031</th>\n",
              "      <td>320491</td>\n",
              "      <td>Extra Scoop: Rob Kardashian Has Reportedly Not...</td>\n",
              "      <td>http://www.extratv.com/2014/06/25/extra-scoop-...</td>\n",
              "      <td>Extra</td>\n",
              "      <td>e</td>\n",
              "      <td>d1JyGQyGuuZXKZM9TVaiAuCteYRWM</td>\n",
              "      <td>www.extratv.com</td>\n",
              "      <td>1403798566434</td>\n",
              "      <td>0</td>\n",
              "    </tr>\n",
              "    <tr>\n",
              "      <th>361842</th>\n",
              "      <td>362302</td>\n",
              "      <td>Analysis: SeaWorld's mammals live longer</td>\n",
              "      <td>http://tbo.com/ap/analysis-seaworlds-mammals-l...</td>\n",
              "      <td>Tbo.com</td>\n",
              "      <td>t</td>\n",
              "      <td>dXJaauGEc1KdzFMPGiRIGTrQ9OK8M</td>\n",
              "      <td>tbo.com</td>\n",
              "      <td>1404646274525</td>\n",
              "      <td>2</td>\n",
              "    </tr>\n",
              "  </tbody>\n",
              "</table>\n",
              "</div>\n",
              "      <button class=\"colab-df-convert\" onclick=\"convertToInteractive('df-ea10cd9d-8723-4ba2-b566-d476571398a9')\"\n",
              "              title=\"Convert this dataframe to an interactive table.\"\n",
              "              style=\"display:none;\">\n",
              "        \n",
              "  <svg xmlns=\"http://www.w3.org/2000/svg\" height=\"24px\"viewBox=\"0 0 24 24\"\n",
              "       width=\"24px\">\n",
              "    <path d=\"M0 0h24v24H0V0z\" fill=\"none\"/>\n",
              "    <path d=\"M18.56 5.44l.94 2.06.94-2.06 2.06-.94-2.06-.94-.94-2.06-.94 2.06-2.06.94zm-11 1L8.5 8.5l.94-2.06 2.06-.94-2.06-.94L8.5 2.5l-.94 2.06-2.06.94zm10 10l.94 2.06.94-2.06 2.06-.94-2.06-.94-.94-2.06-.94 2.06-2.06.94z\"/><path d=\"M17.41 7.96l-1.37-1.37c-.4-.4-.92-.59-1.43-.59-.52 0-1.04.2-1.43.59L10.3 9.45l-7.72 7.72c-.78.78-.78 2.05 0 2.83L4 21.41c.39.39.9.59 1.41.59.51 0 1.02-.2 1.41-.59l7.78-7.78 2.81-2.81c.8-.78.8-2.07 0-2.86zM5.41 20L4 18.59l7.72-7.72 1.47 1.35L5.41 20z\"/>\n",
              "  </svg>\n",
              "      </button>\n",
              "      \n",
              "  <style>\n",
              "    .colab-df-container {\n",
              "      display:flex;\n",
              "      flex-wrap:wrap;\n",
              "      gap: 12px;\n",
              "    }\n",
              "\n",
              "    .colab-df-convert {\n",
              "      background-color: #E8F0FE;\n",
              "      border: none;\n",
              "      border-radius: 50%;\n",
              "      cursor: pointer;\n",
              "      display: none;\n",
              "      fill: #1967D2;\n",
              "      height: 32px;\n",
              "      padding: 0 0 0 0;\n",
              "      width: 32px;\n",
              "    }\n",
              "\n",
              "    .colab-df-convert:hover {\n",
              "      background-color: #E2EBFA;\n",
              "      box-shadow: 0px 1px 2px rgba(60, 64, 67, 0.3), 0px 1px 3px 1px rgba(60, 64, 67, 0.15);\n",
              "      fill: #174EA6;\n",
              "    }\n",
              "\n",
              "    [theme=dark] .colab-df-convert {\n",
              "      background-color: #3B4455;\n",
              "      fill: #D2E3FC;\n",
              "    }\n",
              "\n",
              "    [theme=dark] .colab-df-convert:hover {\n",
              "      background-color: #434B5C;\n",
              "      box-shadow: 0px 1px 3px 1px rgba(0, 0, 0, 0.15);\n",
              "      filter: drop-shadow(0px 1px 2px rgba(0, 0, 0, 0.3));\n",
              "      fill: #FFFFFF;\n",
              "    }\n",
              "  </style>\n",
              "\n",
              "      <script>\n",
              "        const buttonEl =\n",
              "          document.querySelector('#df-ea10cd9d-8723-4ba2-b566-d476571398a9 button.colab-df-convert');\n",
              "        buttonEl.style.display =\n",
              "          google.colab.kernel.accessAllowed ? 'block' : 'none';\n",
              "\n",
              "        async function convertToInteractive(key) {\n",
              "          const element = document.querySelector('#df-ea10cd9d-8723-4ba2-b566-d476571398a9');\n",
              "          const dataTable =\n",
              "            await google.colab.kernel.invokeFunction('convertToInteractive',\n",
              "                                                     [key], {});\n",
              "          if (!dataTable) return;\n",
              "\n",
              "          const docLinkHtml = 'Like what you see? Visit the ' +\n",
              "            '<a target=\"_blank\" href=https://colab.research.google.com/notebooks/data_table.ipynb>data table notebook</a>'\n",
              "            + ' to learn more about interactive tables.';\n",
              "          element.innerHTML = '';\n",
              "          dataTable['output_type'] = 'display_data';\n",
              "          await google.colab.output.renderOutput(dataTable, element);\n",
              "          const docLink = document.createElement('div');\n",
              "          docLink.innerHTML = docLinkHtml;\n",
              "          element.appendChild(docLink);\n",
              "        }\n",
              "      </script>\n",
              "    </div>\n",
              "  </div>\n",
              "  "
            ],
            "text/plain": [
              "            ID  ... label\n",
              "70258    70334  ...     1\n",
              "10451    10452  ...     2\n",
              "147450  147786  ...     0\n",
              "320031  320491  ...     0\n",
              "361842  362302  ...     2\n",
              "\n",
              "[5 rows x 9 columns]"
            ]
          },
          "metadata": {},
          "execution_count": 323
        }
      ]
    },
    {
      "cell_type": "markdown",
      "source": [
        "## 2) Tokenization Features Engineering"
      ],
      "metadata": {
        "id": "xazR7eZpXcZs"
      }
    },
    {
      "cell_type": "code",
      "source": [
        "max_length = 128"
      ],
      "metadata": {
        "id": "N61l98MhbURZ"
      },
      "execution_count": 324,
      "outputs": []
    },
    {
      "cell_type": "code",
      "source": [
        "tokenizer = AutoTokenizer.from_pretrained(model_name)"
      ],
      "metadata": {
        "id": "e5DLd3b3aqde"
      },
      "execution_count": 325,
      "outputs": []
    },
    {
      "cell_type": "code",
      "source": [
        "title = df['TITLE'].iloc[5]"
      ],
      "metadata": {
        "id": "-8yLku_rziMK"
      },
      "execution_count": 326,
      "outputs": []
    },
    {
      "cell_type": "code",
      "source": [
        "inputs = tokenizer(\n",
        "    text = title,\n",
        "    text_pair = None,\n",
        "    add_special_tokens = True,\n",
        "    max_length = max_length,\n",
        "    padding = \"max_length\",\n",
        "    return_token_type_ids = False,\n",
        "    truncation = True,\n",
        "    )"
      ],
      "metadata": {
        "id": "m8A0errVzdT3"
      },
      "execution_count": 327,
      "outputs": []
    },
    {
      "cell_type": "code",
      "source": [
        "inputs.keys()"
      ],
      "metadata": {
        "colab": {
          "base_uri": "https://localhost:8080/"
        },
        "id": "Wz2MInsJzgp-",
        "outputId": "6703f3bc-185c-40b9-cbd5-97c34d3eac34"
      },
      "execution_count": 328,
      "outputs": [
        {
          "output_type": "execute_result",
          "data": {
            "text/plain": [
              "dict_keys(['input_ids', 'attention_mask'])"
            ]
          },
          "metadata": {},
          "execution_count": 328
        }
      ]
    },
    {
      "cell_type": "code",
      "source": [
        "class CustomizedDataset(Dataset):\n",
        "    def __init__(self,dataframe,tokenizer,max_length,device):\n",
        "        self.len = len(dataframe)\n",
        "        self.df = dataframe\n",
        "        self.tokenizer = tokenizer\n",
        "        self.max_length = max_length\n",
        "        self.device = device\n",
        "    def __len__(self):\n",
        "        return self.len\n",
        "    \n",
        "    def __getitem__(self,index):\n",
        "        title = self.df['TITLE'].iloc[index]\n",
        "        label = self.df['label'].iloc[index]\n",
        "\n",
        "        if not isinstance(title,str):\n",
        "            title  = title.to_list()\n",
        "            label = label.to_list()\n",
        "\n",
        "        inputs = self.tokenizer(\n",
        "            text = title,\n",
        "            text_pair = None,\n",
        "            add_special_tokens = True,\n",
        "            max_length = self.max_length,\n",
        "            padding = \"max_length\",\n",
        "            return_token_type_ids = False,\n",
        "            truncation = True,\n",
        "            return_tensors = \"pt\",\n",
        "            )\n",
        "\n",
        "        inputs = {k:v.to(self.device) for (k,v) in inputs.items()}\n",
        "\n",
        "        return inputs,torch.tensor(label).to(self.device)"
      ],
      "metadata": {
        "id": "55ibAcXvxrJD"
      },
      "execution_count": 329,
      "outputs": []
    },
    {
      "cell_type": "code",
      "source": [
        "train_size = 0.7\n",
        "train_df = df.sample(frac= train_size,random_state = 12)\n",
        "test_df = df.drop(train_df.index)"
      ],
      "metadata": {
        "id": "MeQs0HwMxj65"
      },
      "execution_count": 330,
      "outputs": []
    },
    {
      "cell_type": "code",
      "source": [
        "len(train_df),len(test_df)"
      ],
      "metadata": {
        "colab": {
          "base_uri": "https://localhost:8080/"
        },
        "id": "-CbH18qB1Cnm",
        "outputId": "4e743ae5-6edb-498d-fcd2-ac0876920085"
      },
      "execution_count": 331,
      "outputs": [
        {
          "output_type": "execute_result",
          "data": {
            "text/plain": [
              "(700, 300)"
            ]
          },
          "metadata": {},
          "execution_count": 331
        }
      ]
    },
    {
      "cell_type": "code",
      "source": [
        "batch_size = 6"
      ],
      "metadata": {
        "id": "2sJpeUIB3IlP"
      },
      "execution_count": 332,
      "outputs": []
    },
    {
      "cell_type": "code",
      "source": [
        "train_dataset = CustomizedDataset(train_df,tokenizer,max_length,device)\n",
        "train_loader = DataLoader(train_dataset,batch_size)"
      ],
      "metadata": {
        "id": "Z4mKC72U079I"
      },
      "execution_count": 333,
      "outputs": []
    },
    {
      "cell_type": "code",
      "source": [
        "test_dataset = CustomizedDataset(test_df,tokenizer,max_length,device)\n",
        "test_loader = DataLoader(test_dataset,batch_size,drop_last = True)"
      ],
      "metadata": {
        "id": "JxPm1RrR1R_k"
      },
      "execution_count": 334,
      "outputs": []
    },
    {
      "cell_type": "markdown",
      "source": [
        "## 3) Define Model"
      ],
      "metadata": {
        "id": "Xr-KMJe2kXd2"
      }
    },
    {
      "cell_type": "code",
      "source": [
        "class DistilBERTClass(torch.nn.Module):\n",
        "    def __init__(self,config):\n",
        "        super(DistilBERTClass,self).__init__()\n",
        "        self.bert_layer = DistilBertModel.from_pretrained(config.model_name)\n",
        "        self.pre_classifier = torch.nn.Linear(768,768)\n",
        "        self.dropout = torch.nn.Dropout(0.3)\n",
        "        self.classifer = torch.nn.Linear(768,config.num_class)\n",
        "\n",
        "    def forward(self,inputs):\n",
        "\n",
        "        outputs = self.bert_layer(**inputs)\n",
        "        last_hidden_state = outputs.last_hidden_state\n",
        "        pooler = last_hidden_state[:,0]\n",
        "        pooler = self.pre_classifier(pooler)\n",
        "        pooler = self.dropout(pooler)\n",
        "        outputs = self.classifer(pooler)\n",
        "\n",
        "        return outputs\n"
      ],
      "metadata": {
        "id": "NfTMLa3M3bip"
      },
      "execution_count": 335,
      "outputs": []
    },
    {
      "cell_type": "code",
      "source": [
        "class config:\n",
        "    model_name = model_name\n",
        "    num_class = len(category_dict.items())"
      ],
      "metadata": {
        "id": "JCFJ7Vx646H5"
      },
      "execution_count": 336,
      "outputs": []
    },
    {
      "cell_type": "code",
      "source": [
        "model = DistilBERTClass(config)\n",
        "model = model.to(device)"
      ],
      "metadata": {
        "colab": {
          "base_uri": "https://localhost:8080/"
        },
        "id": "ouFmBdUE5N9J",
        "outputId": "93660958-c0f9-41a4-ec09-494a5b5a30ee"
      },
      "execution_count": 337,
      "outputs": [
        {
          "output_type": "stream",
          "name": "stderr",
          "text": [
            "Some weights of the model checkpoint at distilbert-base-uncased were not used when initializing DistilBertModel: ['vocab_projector.weight', 'vocab_layer_norm.bias', 'vocab_projector.bias', 'vocab_layer_norm.weight', 'vocab_transform.bias', 'vocab_transform.weight']\n",
            "- This IS expected if you are initializing DistilBertModel from the checkpoint of a model trained on another task or with another architecture (e.g. initializing a BertForSequenceClassification model from a BertForPreTraining model).\n",
            "- This IS NOT expected if you are initializing DistilBertModel from the checkpoint of a model that you expect to be exactly identical (initializing a BertForSequenceClassification model from a BertForSequenceClassification model).\n"
          ]
        }
      ]
    },
    {
      "cell_type": "code",
      "source": [
        "# model(sample_inputs)"
      ],
      "metadata": {
        "id": "hn3kN5C_9hUi"
      },
      "execution_count": 338,
      "outputs": []
    },
    {
      "cell_type": "code",
      "source": [
        "learning_rate = 1e-05"
      ],
      "metadata": {
        "id": "JGi7gudI53cO"
      },
      "execution_count": 339,
      "outputs": []
    },
    {
      "cell_type": "code",
      "source": [
        "loss_function = torch.nn.CrossEntropyLoss()\n",
        "optimizer = torch.optim.Adam(params = model.parameters(),lr = learning_rate )"
      ],
      "metadata": {
        "id": "EM9JtEUr5RiH"
      },
      "execution_count": 340,
      "outputs": []
    },
    {
      "cell_type": "markdown",
      "source": [
        "##4) Fine Tune Model"
      ],
      "metadata": {
        "id": "OxoYzNGj6Q6S"
      }
    },
    {
      "cell_type": "code",
      "source": [
        "\"\"\"test\"\"\"\n",
        "for data,labels in test_loader:\n",
        "    break"
      ],
      "metadata": {
        "id": "uVx413ag_kCC"
      },
      "execution_count": 341,
      "outputs": []
    },
    {
      "cell_type": "code",
      "source": [
        "data['attention_mask'].shape"
      ],
      "metadata": {
        "colab": {
          "base_uri": "https://localhost:8080/"
        },
        "id": "nHhUBpQm_n9G",
        "outputId": "f9e507bd-c609-4715-a6b3-ccd4106c6ea7"
      },
      "execution_count": 342,
      "outputs": [
        {
          "output_type": "execute_result",
          "data": {
            "text/plain": [
              "torch.Size([6, 1, 128])"
            ]
          },
          "metadata": {},
          "execution_count": 342
        }
      ]
    },
    {
      "cell_type": "code",
      "source": [
        "\"\"\"test\"\"\"\n",
        "total_loss = 0\n",
        "for data,labels in test_loader:\n",
        "    input_ids = torch.squeeze(data['input_ids'])\n",
        "    attention_mask = torch.squeeze(data['attention_mask'])\n",
        "    inputs = {'input_ids':input_ids,'attention_mask':attention_mask}\n",
        "    outputs = model(inputs)\n",
        "    loss = loss_function(outputs,labels)\n",
        "    total_loss += loss.item()\n",
        "    break"
      ],
      "metadata": {
        "id": "_J-qo0ed6IG2"
      },
      "execution_count": 343,
      "outputs": []
    },
    {
      "cell_type": "code",
      "source": [
        "outputs"
      ],
      "metadata": {
        "colab": {
          "base_uri": "https://localhost:8080/"
        },
        "id": "P-5bEJTp-v9N",
        "outputId": "b6f68e9f-f762-4aa4-e008-9689557325cc"
      },
      "execution_count": 344,
      "outputs": [
        {
          "output_type": "execute_result",
          "data": {
            "text/plain": [
              "tensor([[ 0.1641, -0.2112, -0.0841,  0.3998],\n",
              "        [ 0.2728, -0.1407, -0.1243,  0.1284],\n",
              "        [ 0.0379, -0.2294, -0.0113,  0.3652],\n",
              "        [ 0.0944, -0.2889, -0.0310,  0.2839],\n",
              "        [ 0.1485, -0.1570, -0.2184,  0.4245],\n",
              "        [ 0.0174, -0.2914, -0.1358,  0.3840]], grad_fn=<AddmmBackward0>)"
            ]
          },
          "metadata": {},
          "execution_count": 344
        }
      ]
    },
    {
      "cell_type": "code",
      "source": [
        "def evaluate():\n",
        "    model.eval()\n",
        "    average_acc = []\n",
        "    average_loss = []\n",
        "    total_loss = 0\n",
        "    for data,labels in test_loader:\n",
        "        input_ids = torch.squeeze(data['input_ids'])\n",
        "        attention_mask = torch.squeeze(data['attention_mask'])\n",
        "        inputs = {'input_ids':input_ids,'attention_mask':attention_mask}\n",
        "        with torch.no_grad():\n",
        "            outputs = model(inputs)\n",
        "            loss = loss_function(outputs,labels)\n",
        "            average_loss.append(loss)\n",
        "\n",
        "        true = labels.data.cpu()\n",
        "        pred = torch.max(outputs,1)[1].cpu()\n",
        "\n",
        "        test_acc = metrics.accuracy_score(true,pred)\n",
        "        average_acc.append(test_acc)\n",
        "    \n",
        "    return np.mean(average_acc),np.mean(average_loss)"
      ],
      "metadata": {
        "id": "6j8A-t4sDhiu"
      },
      "execution_count": 345,
      "outputs": []
    },
    {
      "cell_type": "code",
      "source": [
        "epoches = 5"
      ],
      "metadata": {
        "id": "2zXV-B8tE7Z-"
      },
      "execution_count": 346,
      "outputs": []
    },
    {
      "cell_type": "code",
      "source": [
        "len(train_loader)"
      ],
      "metadata": {
        "colab": {
          "base_uri": "https://localhost:8080/"
        },
        "id": "aW8wUETzJkU1",
        "outputId": "6ef2ceac-7bca-44c4-d935-aa9c5713665f"
      },
      "execution_count": 350,
      "outputs": [
        {
          "output_type": "execute_result",
          "data": {
            "text/plain": [
              "117"
            ]
          },
          "metadata": {},
          "execution_count": 350
        }
      ]
    },
    {
      "cell_type": "code",
      "source": [
        "def train():\n",
        "    total_batch = 0\n",
        "    model.train()\n",
        "    for epoch in range(epoches):\n",
        "        print(\"Epoc {} / {}\".format(epoch+1,epoches))\n",
        "\n",
        "        for data,labels in train_loader:\n",
        "            input_ids = torch.squeeze(data['input_ids'])\n",
        "            attention_mask = torch.squeeze(data['attention_mask'])\n",
        "            inputs = {'input_ids':input_ids,'attention_mask':attention_mask}\n",
        "            outputs = model(inputs)\n",
        "\n",
        "            optimizer.zero_grad()\n",
        "            loss = loss_function(outputs,labels)\n",
        "            loss.backward()\n",
        "            optimizer.step()\n",
        "\n",
        "            if (total_batch+1) % 100 ==0:\n",
        "                true = labels.data.cpu()\n",
        "                pred = torch.max(outputs,1)[1].cpu()\n",
        "                train_acc = metrics.accuracy_score(true,pred)\n",
        "                test_acc,test_loss = evaluate()\n",
        "                log = \"Total Batch: {0} ,Train Loss {1} ,Train Accuracy {3} ,Test Loss {4 Test Accuracy {5}}\"\n",
        "                print(log.format(total_batch,loss.item(),train_acc,test_acc,test_loss))\n",
        "                model.train()\n",
        "            total_batch +=1"
      ],
      "metadata": {
        "id": "VdZIOTmEEx0t"
      },
      "execution_count": 351,
      "outputs": []
    },
    {
      "cell_type": "code",
      "source": [
        "train()"
      ],
      "metadata": {
        "colab": {
          "base_uri": "https://localhost:8080/"
        },
        "id": "G98MaPCMGVPG",
        "outputId": "100849f2-a94e-494d-996d-adcc43391616"
      },
      "execution_count": null,
      "outputs": [
        {
          "output_type": "stream",
          "name": "stdout",
          "text": [
            "Epoc 1 / 5\n"
          ]
        }
      ]
    },
    {
      "cell_type": "markdown",
      "source": [
        "# Save Model"
      ],
      "metadata": {
        "id": "eCNlKD0PoA8R"
      }
    },
    {
      "cell_type": "code",
      "source": [
        "model_save_path = \"/content/drive/My Drive/Colab Notebooks/Models/newsCorpora/newsCorpora.bin\"\n",
        " # data folder\n",
        " torch.save(model,model_save_path)"
      ],
      "metadata": {
        "id": "RjbMF-7GG9hm"
      },
      "execution_count": null,
      "outputs": []
    }
  ],
  "metadata": {
    "colab": {
      "name": "Fine Tune DistilBERT For Multi-Class Text Classification",
      "provenance": [],
      "collapsed_sections": [],
      "toc_visible": true
    },
    "language_info": {
      "name": "python"
    },
    "kernelspec": {
      "name": "python3",
      "display_name": "Python 3"
    },
    "accelerator": "TPU"
  },
  "nbformat": 4,
  "nbformat_minor": 0
}